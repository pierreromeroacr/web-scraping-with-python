{
 "cells": [
  {
   "cell_type": "markdown",
   "id": "e23c214e",
   "metadata": {},
   "source": [
    "## Leyendo un xml"
   ]
  },
  {
   "cell_type": "code",
   "execution_count": 9,
   "id": "c9cd3bc8",
   "metadata": {},
   "outputs": [],
   "source": [
    "import urllib.request\n",
    "\n",
    "#Biblioteca xml.etree.ElementTree para analizar el contenido XML\n",
    "import xml.etree.ElementTree as xml"
   ]
  },
  {
   "cell_type": "code",
   "execution_count": 19,
   "id": "3bd4e572",
   "metadata": {},
   "outputs": [
    {
     "name": "stdout",
     "output_type": "stream",
     "text": [
      "numero de registros:  5\n",
      "\r\n",
      "Name: Belgian Waffles\n",
      "Price: $5.95\n",
      "Description: Two of our famous Belgian Waffles with plenty of real maple syrup\n",
      "Calories: 650\n",
      "\r\n",
      "Name: Strawberry Belgian Waffles\n",
      "Price: $7.95\n",
      "Description: Light Belgian waffles covered with strawberries and whipped cream\n",
      "Calories: 900\n",
      "\r\n",
      "Name: Berry-Berry Belgian Waffles\n",
      "Price: $8.95\n",
      "Description: Light Belgian waffles covered with an assortment of fresh berries and whipped cream\n",
      "Calories: 900\n",
      "\r\n",
      "Name: French Toast\n",
      "Price: $4.50\n",
      "Description: Thick slices made from our homemade sourdough bread\n",
      "Calories: 600\n",
      "\r\n",
      "Name: Homestyle Breakfast\n",
      "Price: $6.95\n",
      "Description: Two eggs, bacon or sausage, toast, and our ever-popular hash browns\n",
      "Calories: 950\n"
     ]
    }
   ],
   "source": [
    "url = \"https://www.w3schools.com/xml/simple.xml\"\n",
    "\n",
    "#Abre la URL y guarda el objeto resultante con \"urlopen\" y lo almacenamos en \"openurl\"\n",
    "openurl = urllib.request.urlopen(url).read()\n",
    "\n",
    "#Convierte la cadena openurl en un objeto XML utilizando xml.fromstring(openurl.decode())\n",
    "data = xml.fromstring(openurl.decode())\n",
    "\n",
    "#Busca todos los elementos 'food' dentro del objeto XML\n",
    "searchfood = data.findall('food')\n",
    "print('numero de registros: ', len(searchfood))\n",
    "\n",
    "#Itera sobre cada elemento 'food'\n",
    "for k in searchfood:\n",
    "    print('\\r')\n",
    "    print('Name:', k.find('name').text)\n",
    "    print('Price:', k.find('price').text)\n",
    "    print('Description:', k.find('description').text)\n",
    "    print('Calories:', k.find('calories').text)\n"
   ]
  }
 ],
 "metadata": {
  "kernelspec": {
   "display_name": "Python 3 (ipykernel)",
   "language": "python",
   "name": "python3"
  },
  "language_info": {
   "codemirror_mode": {
    "name": "ipython",
    "version": 3
   },
   "file_extension": ".py",
   "mimetype": "text/x-python",
   "name": "python",
   "nbconvert_exporter": "python",
   "pygments_lexer": "ipython3",
   "version": "3.11.4"
  }
 },
 "nbformat": 4,
 "nbformat_minor": 5
}
